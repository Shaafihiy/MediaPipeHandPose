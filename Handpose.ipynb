{
 "cells": [
  {
   "cell_type": "markdown",
   "metadata": {},
   "source": [
    "# 0. Install and Import Dependencies"
   ]
  },
  {
   "cell_type": "code",
   "execution_count": 1,
   "metadata": {
    "collapsed": true
   },
   "outputs": [
    {
     "name": "stdout",
     "output_type": "stream",
     "text": [
      "Requirement already satisfied: mediapipe in d:\\youtube\\18-04-2021 - hand pose\\hands\\lib\\site-packages (0.8.3.1)\n",
      "Requirement already satisfied: opencv-python in d:\\youtube\\18-04-2021 - hand pose\\hands\\lib\\site-packages (4.5.1.48)\n",
      "Requirement already satisfied: six in d:\\youtube\\18-04-2021 - hand pose\\hands\\lib\\site-packages (from mediapipe) (1.15.0)\n",
      "Requirement already satisfied: numpy in d:\\youtube\\18-04-2021 - hand pose\\hands\\lib\\site-packages (from mediapipe) (1.20.2)\n",
      "Requirement already satisfied: attrs>=19.1.0 in d:\\youtube\\18-04-2021 - hand pose\\hands\\lib\\site-packages (from mediapipe) (20.3.0)\n",
      "Requirement already satisfied: wheel in d:\\youtube\\18-04-2021 - hand pose\\hands\\lib\\site-packages (from mediapipe) (0.36.2)\n",
      "Requirement already satisfied: absl-py in d:\\youtube\\18-04-2021 - hand pose\\hands\\lib\\site-packages (from mediapipe) (0.12.0)\n",
      "Requirement already satisfied: dataclasses in d:\\youtube\\18-04-2021 - hand pose\\hands\\lib\\site-packages (from mediapipe) (0.6)\n",
      "Requirement already satisfied: protobuf>=3.11.4 in d:\\youtube\\18-04-2021 - hand pose\\hands\\lib\\site-packages (from mediapipe) (3.15.8)\n"
     ]
    }
   ],
   "source": [
    "!pip install mediapipe opencv-python"
   ]
  },
  {
   "cell_type": "code",
   "execution_count": 10,
   "metadata": {},
   "outputs": [],
   "source": [
    "import mediapipe as mp\n",
    "import cv2\n",
    "import numpy as np\n",
    "import uuid\n",
    "import os"
   ]
  },
  {
   "cell_type": "code",
   "execution_count": 11,
   "metadata": {},
   "outputs": [],
   "source": [
    "mp_drawing = mp.solutions.drawing_utils\n",
    "mp_hands = mp.solutions.hands"
   ]
  },
  {
   "cell_type": "markdown",
   "metadata": {},
   "source": [
    "# 1. Draw Hands\n",
    "<img src=https://i.imgur.com/qpRACer.png />"
   ]
  },
  {
   "cell_type": "code",
   "execution_count": 3,
   "metadata": {},
   "outputs": [],
   "source": [
    "os.mkdir('images')"
   ]
  },
  {
   "cell_type": "code",
   "execution_count": 12,
   "metadata": {},
   "outputs": [],
   "source": [
    "cap = cv2.VideoCapture(0)\n",
    "with mp_hands.Hands(min_detection_confidence=0.8, min_tracking_confidence=0.5) as hands:\n",
    "    while cap.isOpened():\n",
    "        ret, frame = cap.read()\n",
    "        \n",
    "        image = cv2.cvtColor(frame, cv2.COLOR_BGR2RGB)\n",
    "        image = cv2.flip(image, 1)\n",
    "        image.flags.writeable = False\n",
    "        hand_results = hands.process(image)\n",
    "        image.flags.writeable = True\n",
    "        image = cv2.cvtColor(image, cv2.COLOR_RGB2BGR)\n",
    "        \n",
    "        if hand_results.multi_hand_landmarks: \n",
    "            for num, hand in enumerate(hand_results.multi_hand_landmarks):                \n",
    "                mp_drawing.draw_landmarks(image, hand, mp_hands.HAND_CONNECTIONS, \n",
    "                                 mp_drawing.DrawingSpec(color=(121,22,76), thickness=2, circle_radius=4),\n",
    "                                 mp_drawing.DrawingSpec(color=(121,44,250), thickness=2, circle_radius=2))\n",
    "        \n",
    "        cv2.imwrite(os.path.join('images','{}.jpg'.format(uuid.uuid1())), image)\n",
    "        cv2.imshow('Hand Tracking', image)\n",
    "        \n",
    "        if cv2.waitKey(10) & 0xFF == ord('q'):\n",
    "            break\n",
    "cap.release()\n",
    "cv2.destroyAllWindows()    "
   ]
  }
 ],
 "metadata": {
  "kernelspec": {
   "display_name": "hands",
   "language": "python",
   "name": "hands"
  },
  "language_info": {
   "codemirror_mode": {
    "name": "ipython",
    "version": 3
   },
   "file_extension": ".py",
   "mimetype": "text/x-python",
   "name": "python",
   "nbconvert_exporter": "python",
   "pygments_lexer": "ipython3",
   "version": "3.7.3"
  }
 },
 "nbformat": 4,
 "nbformat_minor": 2
}
